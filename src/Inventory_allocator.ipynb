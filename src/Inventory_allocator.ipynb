{
 "cells": [
  {
   "cell_type": "markdown",
   "metadata": {},
   "source": [
    "# Submitted By- Diwakar.\n",
    "Leetcode - https://leetcode.com/diwakarkalra/\n",
    "\n",
    "LinkedIn - https://www.linkedin.com/in/diwakar-220b19148/"
   ]
  },
  {
   "cell_type": "markdown",
   "metadata": {},
   "source": [
    "#####     Function \"completeOrder\" to check if a single warehouse can fullfill the entire order\n",
    "     @parameter order = order that needs to be fulfilled\n",
    "     @Paremeter warehouse = warehouse in consideration\n",
    "     Returns Boolean\n",
    " "
   ]
  },
  {
   "cell_type": "code",
   "execution_count": 642,
   "metadata": {},
   "outputs": [],
   "source": [
    "def completeOrder(order , warehouse):  \n",
    "    for item in order.keys():\n",
    "        if item not in warehouse[\"inventory\"].keys() or warehouse[\"inventory\"][item] < order[item]:\n",
    "            return False\n",
    "    return True"
   ]
  },
  {
   "cell_type": "markdown",
   "metadata": {},
   "source": [
    "#####     Function \"halfOrder\" to check if the current Warehouse can provide some items of the Order\n",
    "     @parameter remainig_Order = order that needs to be fulfilled\n",
    "     @Paremeter warehouse = warehouse in consideration\n",
    "     @parameter start = index of current warehouse\n",
    "     @parameter end = index of the last Warehouse\n",
    "     Returns the number of items taken from one warehouse to fulfill the order\n",
    "     Handles the case if Order cannot be shipped because there is not enough inventory"
   ]
  },
  {
   "cell_type": "code",
   "execution_count": 643,
   "metadata": {},
   "outputs": [],
   "source": [
    "def halfOrder(remainig_Order, warehouse, start, end) :\n",
    "    order_filled = {}\n",
    "    for item in remainig_Order.keys():\n",
    "        if remainig_Order[item] == 0 :\n",
    "            continue\n",
    "        else:\n",
    "            if item in  warehouse[\"inventory\"].keys() : \n",
    "                if warehouse[\"inventory\"][item] >= remainig_Order[item]:   \n",
    "                    order_filled[item] = remainig_Order[item]\n",
    "                    remainig_Order[item] = 0\n",
    "                elif warehouse[\"inventory\"][item] < remainig_Order[item] and warehouse[\"inventory\"][item] > 0:\n",
    "                    order_filled[item] = warehouse[\"inventory\"][item]\n",
    "                    remainig_Order[item] -= warehouse[\"inventory\"][item]\n",
    "            if start == end and remainig_Order[item] > 0:\n",
    "                return [],remainig_Order\n",
    "    if not order_filled:\n",
    "        return {} ,remainig_Order\n",
    "    else:\n",
    "        return {warehouse[\"name\"] : order_filled} ,remainig_Order \n",
    "        "
   ]
  },
  {
   "cell_type": "markdown",
   "metadata": {},
   "source": [
    "#####     Function \"smallest_Path\" to return the best way to ship the order\n",
    "     @parameter All_paths = All ways by which order can be fulfilled\n",
    "     Returns the path with least number of warehouses"
   ]
  },
  {
   "cell_type": "code",
   "execution_count": 644,
   "metadata": {},
   "outputs": [],
   "source": [
    "import math\n",
    "def smallest_Path(All_paths):\n",
    "    minimum_length = math.inf\n",
    "    index = 0\n",
    "    for i,path in enumerate(All_paths):\n",
    "        if len(path) < minimum_length:\n",
    "            minimum_length = len(path)\n",
    "            index = i\n",
    "    return All_paths[index]"
   ]
  },
  {
   "cell_type": "markdown",
   "metadata": {},
   "source": [
    "### Driver Function - inventory_Allocator\n",
    "    @Parame order = Order to be completed\n",
    "    @Warehouses = Set of all all warehouse available to satisfy the order\n",
    "    Returns a path if order can be fulfilled\n"
   ]
  },
  {
   "cell_type": "code",
   "execution_count": 645,
   "metadata": {},
   "outputs": [],
   "source": [
    "def inventory_Allocator(order={}, warehouses=[]):\n",
    "    if not order or type(order) != dict:\n",
    "        return (\"Invalid Order\")\n",
    "    \n",
    "    if not warehouses or type(warehouses) != list:\n",
    "        return [] \n",
    "    \n",
    "    All_paths = []\n",
    "    Original_order = order.copy()\n",
    "    break_condition = False\n",
    "    \n",
    "    for index in range(len(warehouses)) : #Checks all warehouses starting from the nearest \n",
    "        if completeOrder(Original_order , warehouses[index]) : \n",
    "                return [{warehouses[index][\"name\"] : Original_order}]\n",
    "        path_Exists = []\n",
    "        order_ = order.copy()  #Preserving the state to compute differenet Paths\n",
    "        \n",
    "        for sub_index in range( index , len(warehouses)): #checks if we can complete orders using multiple warehouses\n",
    "            \n",
    "            for i in range(sub_index+1, len(warehouses)): #checks if at any instant remaing order can be completely \n",
    "                                                    # filled by a single warehouse amongst the remaining warehouses\n",
    "                if completeOrder(order_ , warehouses[i]) :   \n",
    "                    path_Exists.append({warehouses[i][\"name\"] : order_})\n",
    "                    break_condition = True  # Since this is already the best path using current Warehouse[sub_index]\n",
    "                    break                    # We need not to check any further\n",
    "                else:\n",
    "                    continue\n",
    "                    \n",
    "            if break_condition == True:\n",
    "                break_condition = False\n",
    "                break\n",
    "                \n",
    "            items_found , order_ = halfOrder(order_,warehouses[sub_index],sub_index, len(warehouses) -1) \n",
    "            \n",
    "            if items_found == []:\n",
    "                if not All_paths and sub_index == len(warehouses) -1:\n",
    "                    return []  #if we have checked all warehouses and we cannot fulfill order\n",
    "                else:\n",
    "                    path_Exists = [] #if we cannot fulfill order just using the current warehouse, flush curr_path\n",
    "                    break\n",
    "            elif items_found:\n",
    "                path_Exists.append(items_found)\n",
    "                        \n",
    "        if path_Exists and  path_Exists not in All_paths:\n",
    "            All_paths.append(path_Exists)\n",
    "            path_Exists = []\n",
    "    return smallest_Path(All_paths)\n",
    "\n"
   ]
  },
  {
   "cell_type": "markdown",
   "metadata": {},
   "source": [
    "## Explanation of Above Solution\n",
    "The driver function takes into account the order and the warehouses.\n",
    "\n",
    "A) Assumptions:\n",
    "    1. Best way to ship order is by using minimum number of warehouses.\n",
    "    2. The quantities can be postitive or zero but never negative.\n",
    "    3. The cost of items/inventory in each warehouse is same.\n",
    "\n",
    "B) Priority Distribution:\n",
    "    1. Order can be fulfilled by single warehouse.\n",
    "    2. Order can be fullfilled by more than one warehouse but higher priority to path with lesser number of  \n",
    "          warehouses.\n",
    "    3. If there are more than one path with least number of warehouses, higher priority will be given to the path \n",
    "        starting with nearest warehouse.\n",
    "        \n",
    "C) Workflow\n",
    "    1. To check if the order can be completed using one warehouse with the help of \"completeOrder\" function\n",
    "    2. If not, check if a part of the order can be completed using a warehouse with the help of the \"halfOrder\"                  function\n",
    "    3. 'items_found' checks if the current warehouse can help with some items to fulfill the existing order. If                  yes it is added to path_Exists.\n",
    "    4. path_Exists keeps track if a path is possible with the current warehouse, if yes it is added to All_paths.\n",
    "    5. All_paths keeps a track of differnet ways to deliver the order.\n",
    "    6. smallest_Path returns the best way to fullfill the order based upon Assumptions and Priority Distribution             mentioned above."
   ]
  },
  {
   "cell_type": "markdown",
   "metadata": {},
   "source": [
    "#### Test Case 1 : if Order and Warehouse are empty"
   ]
  },
  {
   "cell_type": "code",
   "execution_count": 646,
   "metadata": {},
   "outputs": [
    {
     "name": "stdout",
     "output_type": "stream",
     "text": [
      "T1 :  Invalid Order\n"
     ]
    }
   ],
   "source": [
    "print(\"T1 : \" , inventory_Allocator())"
   ]
  },
  {
   "cell_type": "markdown",
   "metadata": {},
   "source": [
    "#### Test Case 2 : if Order is blank"
   ]
  },
  {
   "cell_type": "code",
   "execution_count": 647,
   "metadata": {},
   "outputs": [
    {
     "name": "stdout",
     "output_type": "stream",
     "text": [
      "T2 :  Invalid Order\n"
     ]
    }
   ],
   "source": [
    "print(\"T2 : \" , inventory_Allocator(\"\", {\"name\" : \"aaa\" , \"inventory\" : {\"apple\" : 1 } }))"
   ]
  },
  {
   "cell_type": "markdown",
   "metadata": {},
   "source": [
    "#### Test Case 3 : if Warehouses section is blank"
   ]
  },
  {
   "cell_type": "code",
   "execution_count": 648,
   "metadata": {},
   "outputs": [
    {
     "name": "stdout",
     "output_type": "stream",
     "text": [
      "T3 :  []\n"
     ]
    }
   ],
   "source": [
    "print(\"T3 : \" , inventory_Allocator({ \"apple\" : 2}, \"\"))"
   ]
  },
  {
   "cell_type": "markdown",
   "metadata": {},
   "source": [
    "#### Test Case 4 : Sample Test Case - 1"
   ]
  },
  {
   "cell_type": "code",
   "execution_count": 649,
   "metadata": {},
   "outputs": [
    {
     "name": "stdout",
     "output_type": "stream",
     "text": [
      "T4 :  [{'owd': {'apple': 1}}]\n"
     ]
    }
   ],
   "source": [
    "print(\"T4 : \" , inventory_Allocator({ \"apple\" : 1}, [{ \"name\": \"owd\", \"inventory\": { \"apple\": 1 }} ]))"
   ]
  },
  {
   "cell_type": "markdown",
   "metadata": {},
   "source": [
    "#### Test Case 5 : Sample Test Case - 2"
   ]
  },
  {
   "cell_type": "code",
   "execution_count": 650,
   "metadata": {},
   "outputs": [
    {
     "name": "stdout",
     "output_type": "stream",
     "text": [
      "T5 :  []\n"
     ]
    }
   ],
   "source": [
    "print(\"T5 : \" , inventory_Allocator({ \"apple\" : 1}, [{ \"name\": \"owd\", \"inventory\": { \"apple\": 0 }} ]))"
   ]
  },
  {
   "cell_type": "markdown",
   "metadata": {},
   "source": [
    "#### Test Case 6 : Sample Test Case - 3"
   ]
  },
  {
   "cell_type": "code",
   "execution_count": 651,
   "metadata": {},
   "outputs": [
    {
     "name": "stdout",
     "output_type": "stream",
     "text": [
      "T6 :  [{'owd': {'apple': 5}}, {'dm': {'apple': 5}}]\n"
     ]
    }
   ],
   "source": [
    "print(\"T6 : \" , inventory_Allocator({ \"apple\" : 10 }, \n",
    "                                    [{ \"name\": \"owd\", \"inventory\": { \"apple\": 5 }} , \n",
    "                                    { \"name\": \"dm\", \"inventory\": { \"apple\": 5 } }]))"
   ]
  },
  {
   "cell_type": "markdown",
   "metadata": {},
   "source": [
    "#### Test Case 7: To check if Higer Priority is given to Shipment from single warehouse"
   ]
  },
  {
   "cell_type": "code",
   "execution_count": 652,
   "metadata": {},
   "outputs": [
    {
     "name": "stdout",
     "output_type": "stream",
     "text": [
      "T7 :  [{'ccc': {'apple': 1, 'orange': 1}}]\n"
     ]
    }
   ],
   "source": [
    "print(\"T7 : \" , inventory_Allocator({\"apple\" : 1 , \"orange\" : 1} , \n",
    "                         [{\"name\" : \"aaa\" , \"inventory\" : {\"apple\" : 1 } } ,\n",
    "                          {\"name\" : \"bbb\" , \"inventory\" : {\"orange\" : 1 } } ,\n",
    "                          {\"name\" : \"ccc\" , \"inventory\" : {\"apple\" : 1,\"orange\" : 1}}]))"
   ]
  },
  {
   "cell_type": "markdown",
   "metadata": {},
   "source": [
    "#### Test Case 8: To check if there are multiple ways to ship the order using same number of warehouses, we get the result of combinattion starting from the nearest warehouse\n"
   ]
  },
  {
   "cell_type": "code",
   "execution_count": 653,
   "metadata": {},
   "outputs": [
    {
     "name": "stdout",
     "output_type": "stream",
     "text": [
      "T8 :  [{'bbb': {'apple': 1, 'orange': 1}}, {'ddd': {'apple': 2, 'orange': 1}}]\n"
     ]
    }
   ],
   "source": [
    "print(\"T8 : \" , inventory_Allocator({\"apple\" : 3 , \"orange\" : 2} , \n",
    "                         [{\"name\" : \"aaa\" , \"inventory\" : {\"apple\" : 1 } } , \n",
    "                          {\"name\" : \"bbb\" , \"inventory\" : {\"apple\" : 1 ,\"orange\" : 1}},\n",
    "                         {\"name\" : \"ccc\" , \"inventory\" : {\"apple\" : 1 ,\"orange\" : 1}},\n",
    "                         {\"name\" : \"ddd\" , \"inventory\" : {\"apple\" : 2 ,\"orange\" : 1}},\n",
    "                         {\"name\" : \"eee\" , \"inventory\" : {\"apple\" : 1 ,\"orange\" : 1}}]))"
   ]
  },
  {
   "cell_type": "markdown",
   "metadata": {},
   "source": [
    "#### Test Case 9 : If the datatype of order is incorrect"
   ]
  },
  {
   "cell_type": "code",
   "execution_count": 654,
   "metadata": {},
   "outputs": [
    {
     "name": "stdout",
     "output_type": "stream",
     "text": [
      "T9 :  Invalid Order\n"
     ]
    }
   ],
   "source": [
    "print(\"T9 : \" , inventory_Allocator([{\"apple\":3}], \"\"))"
   ]
  },
  {
   "cell_type": "markdown",
   "metadata": {},
   "source": [
    "## Additional Test Runs"
   ]
  },
  {
   "cell_type": "code",
   "execution_count": 655,
   "metadata": {},
   "outputs": [
    {
     "name": "stdout",
     "output_type": "stream",
     "text": [
      "T10 :  [{'aaa': {'apple': 1}}, {'ddd': {'apple': 2, 'orange': 1}}]\n"
     ]
    }
   ],
   "source": [
    "print(\"T10 : \" , inventory_Allocator({\"apple\" : 3 , \"orange\" : 1} , \n",
    "                         [{\"name\" : \"aaa\" , \"inventory\" : {\"apple\" : 1 } } , \n",
    "                            {\"name\" : \"bbb\" , \"inventory\" : {\"banana\" : 1,\"apple\" : 1}},\n",
    "                          {\"name\" : \"ccc\" , \"inventory\" : {\"orange\" : 3 } } ,\n",
    "                          {\"name\" : \"ddd\" , \"inventory\" : {\"apple\" : 2,\"orange\" : 3 } }\n",
    "                         ]))"
   ]
  },
  {
   "cell_type": "code",
   "execution_count": 656,
   "metadata": {},
   "outputs": [
    {
     "name": "stdout",
     "output_type": "stream",
     "text": [
      "T11 :  [{'aaa': {'apple': 1}}, {'bbb': {'orange': 1}}]\n"
     ]
    }
   ],
   "source": [
    "print(\"T11 : \" , inventory_Allocator({\"apple\" : 1 , \"orange\" : 1} , \n",
    "                         [{\"name\" : \"aaa\" , \"inventory\" : {\"apple\" : 1 } } , \n",
    "                          {\"name\" : \"bbb\" , \"inventory\" : {\"orange\" : 1 } } ,\n",
    "                          {\"name\" : \"ccc\" , \"inventory\" : {\"orange\" : 1}}]))"
   ]
  },
  {
   "cell_type": "code",
   "execution_count": 657,
   "metadata": {},
   "outputs": [
    {
     "name": "stdout",
     "output_type": "stream",
     "text": [
      "T12 :  []\n"
     ]
    }
   ],
   "source": [
    "print(\"T12 : \" , inventory_Allocator({ \"apple\" : 2}, [{ \"name\": \"owd\", \"inventory\": { \"apple\": 1 }} ]))"
   ]
  },
  {
   "cell_type": "code",
   "execution_count": 658,
   "metadata": {},
   "outputs": [
    {
     "name": "stdout",
     "output_type": "stream",
     "text": [
      "T13 :  []\n"
     ]
    }
   ],
   "source": [
    "print(\"T13 : \" , inventory_Allocator({ \"apple\" : 1 , \"orange\" : 1 },\n",
    "                                     [{ \"name\": \"owd\", \"inventory\": { \"apple\": 0 }} , \n",
    "                                      { \"name\": \"abc\", \"inventory\": { \"orange\": 1 } }]))"
   ]
  },
  {
   "cell_type": "code",
   "execution_count": 659,
   "metadata": {},
   "outputs": [
    {
     "name": "stdout",
     "output_type": "stream",
     "text": [
      "T13 :  [{'aaa': {'apple': 1}}, {'ccc': {'banana': 3}}, {'ddd': {'apple': 4, 'banana': 2}}]\n"
     ]
    }
   ],
   "source": [
    "print(\"T13 : \" , inventory_Allocator({ \"apple\" : 5 , \"banana\" : 5 },\n",
    "                          [{ \"name\": \"aaa\", \"inventory\": { \"orange\": 5, \"apple\" : 1 }} ,\n",
    "                           { \"name\": \"bbb\", \"inventory\": { \"orange\": 3 } },\n",
    "                          { \"name\": \"ccc\", \"inventory\": { \"orange\": 3, \"banana\" : 3 } },\n",
    "                          { \"name\": \"ddd\", \"inventory\": { \"apple\": 4, \"banana\": 2 } },\n",
    "                          { \"name\": \"abc\", \"inventory\": { \"orange\": 3 } }]))"
   ]
  },
  {
   "cell_type": "code",
   "execution_count": 660,
   "metadata": {},
   "outputs": [
    {
     "name": "stdout",
     "output_type": "stream",
     "text": [
      "T14 :  []\n"
     ]
    }
   ],
   "source": [
    "print(\"T14 : \" , inventory_Allocator({ \"apple\" : 2}, \"\"))"
   ]
  },
  {
   "cell_type": "code",
   "execution_count": null,
   "metadata": {},
   "outputs": [],
   "source": []
  }
 ],
 "metadata": {
  "kernelspec": {
   "display_name": "Python 3",
   "language": "python",
   "name": "python3"
  },
  "language_info": {
   "codemirror_mode": {
    "name": "ipython",
    "version": 3
   },
   "file_extension": ".py",
   "mimetype": "text/x-python",
   "name": "python",
   "nbconvert_exporter": "python",
   "pygments_lexer": "ipython3",
   "version": "3.7.6"
  }
 },
 "nbformat": 4,
 "nbformat_minor": 4
}
